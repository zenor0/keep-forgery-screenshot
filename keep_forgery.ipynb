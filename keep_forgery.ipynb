{
 "cells": [
  {
   "cell_type": "code",
   "execution_count": null,
   "metadata": {},
   "outputs": [],
   "source": [
    "# Import local modules\n",
    "import photoshop.api as ps\n",
    "from photoshop import Session\n",
    "import datetime\n",
    "import random\n",
    "import os\n",
    "\n",
    "# Get photoshop instance.\n",
    "app = ps.Application()"
   ]
  },
  {
   "cell_type": "code",
   "execution_count": null,
   "metadata": {},
   "outputs": [],
   "source": [
    "template_psd = \"keep_template_new.psd\"\n",
    "is_import_base_image = True\n",
    "base_image = \"修改为你的图片路径\"\n",
    "\n",
    "base_path = os.path.join(os.path.dirname(os.getcwd()), 'ps-automation')\n",
    "template_psd_path = os.path.join(base_path, template_psd)\n",
    "base_image_path = os.path.join(base_path, base_image)\n",
    "output_path = os.path.join(base_path, 'outputs', base_image.split('.')[0] + '_output.png')\n",
    "FLAG_INTERVAL = 0.2469444444444413\n",
    "\n",
    "print(\"template_psd_path: \", template_psd_path)\n",
    "print(\"base_image_path: \", base_image_path)\n",
    "print(\"output_path: \", output_path)"
   ]
  },
  {
   "cell_type": "code",
   "execution_count": null,
   "metadata": {},
   "outputs": [],
   "source": [
    "# config img data\n",
    "weather = random.choice(['晴', '阴', '雨', '雪', '多云', '雷阵雨', '小雨', '小雪', '中雨', '中雪', '大雨', '大雪'])\n",
    "temperature = random.randint(10, 20)\n",
    "\n",
    "img_data = {\n",
    "    'time': datetime.datetime.now().strftime(\"%H:%M\"),\n",
    "    'user_id': '你的名字',\n",
    "    #stamp generate e.g. 2024/03/19 00:23 - 01:04 · 阴 · 13℃\n",
    "    'stamp': f'{datetime.datetime.now().strftime(\"%Y/%m/%d\")} {datetime.datetime.now().strftime(\"%H:%M\")} - {datetime.datetime.now().strftime(\"%H:%M\")} · {weather} · {temperature}℃',\n",
    "    'mile': random.randint(100, 200) / 100,\n",
    "    # time range from 10min to 50min formatted output e.g. 00:40:24\n",
    "    'total_time': datetime.timedelta(seconds=random.randint(600, 3000)).__str__(),\n",
    "    'sport_time': datetime.timedelta(seconds=random.randint(600, 3000)).__str__(),\n",
    "    # speed_avg formatted as e.g. 12'34''\n",
    "    'speed_avg': f'{random.randint(10, 20)}\\'{random.randint(10, 59)}\\'\\'',\n",
    "    'cal': f'{random.randint(100, 200)}',\n",
    "    'climb': f'{random.randint(100, 200)}',\n",
    "    'step_frequency': f'{random.randint(60,80)}',\n",
    "}\n",
    "flag_attr = ['cal', 'climb', 'step_frequency']\n",
    "img_data"
   ]
  },
  {
   "cell_type": "code",
   "execution_count": null,
   "metadata": {},
   "outputs": [],
   "source": [
    "\n",
    "# modify control switch\n",
    "config = {\n",
    "    'time': False,\n",
    "    'user_id': False,\n",
    "    'stamp': False,\n",
    "    'mile': False,\n",
    "    'total_time': False,\n",
    "    'sport_time': False,\n",
    "    'speed_avg': False,\n",
    "    'cal': False,\n",
    "    'climb': False,\n",
    "    'step_frequency': True,\n",
    "}\n"
   ]
  },
  {
   "cell_type": "code",
   "execution_count": null,
   "metadata": {},
   "outputs": [],
   "source": [
    "def print_layers(layer, indent=0):\n",
    "    for item in layer:\n",
    "        print('  ' * indent, item.name)\n",
    "        try:\n",
    "            item.layers\n",
    "            print_layers(item.layers, indent + 1)\n",
    "        except:\n",
    "            continue\n",
    "\n",
    "with Session(template_psd_path, action=\"open\") as psd:\n",
    "    doc = psd.active_document\n",
    "\n",
    "    if is_import_base_image:\n",
    "        try:\n",
    "            doc.artLayers.getByName('base_image').remove()\n",
    "        except:\n",
    "            print('base_image not exist')\n",
    "        # base_layer = doc.artLayers.add()\n",
    "        # base_layer.name = 'base_image'\n",
    "        # base_layer.kind = base_layer.kind.NORMAL\n",
    "        desc = psd.ActionDescriptor\n",
    "        desc.putPath(psd.app.charIDToTypeID(\"null\"), base_image_path)\n",
    "        event_id = psd.app.charIDToTypeID(\"Plc \")  # `Plc` need one space in here.\n",
    "        psd.app.executeAction(psd.app.charIDToTypeID(\"Plc \"), desc)\n",
    "        \n",
    "        new_layer = doc.artLayers[0]\n",
    "        new_layer.name = 'base_image'\n",
    "        new_layer.translate(-new_layer.bounds[0], -new_layer.bounds[1])\n",
    "        new_layer.move(doc.layers[-1], psd.ElementPlacement.PlaceAfter)\n",
    "    \n",
    "    layers = doc.layerSets\n",
    "    for config_key in config:\n",
    "        if config[config_key]:\n",
    "            print(f'modify {config_key}: {img_data[config_key]}')\n",
    "            layers[config_key].visible = True\n",
    "            layers[config_key].artLayers['data']\n",
    "            print(layers[config_key].artLayers['data'].textItem.contents,img_data[config_key])\n",
    "            layers[config_key].artLayers['data'].textItem.contents = img_data[config_key]\n",
    "            if config_key in flag_attr:\n",
    "                deltax = layers[config_key].artLayers['data'].bounds[2] + FLAG_INTERVAL - layers[config_key].artLayers['flag'].bounds[0]\n",
    "                layers[config_key].artLayers['flag'].translate(deltax, 0)\n",
    "        else:\n",
    "            print(f'skip {config_key}')\n",
    "            layers[config_key].visible = False\n",
    "    \n",
    "    doc.saveAs(output_path, ps.PNGSaveOptions(), True)\n"
   ]
  },
  {
   "cell_type": "code",
   "execution_count": null,
   "metadata": {},
   "outputs": [],
   "source": [
    "# purify image\n",
    "\n",
    "from PIL import Image\n",
    "\n",
    "img = Image.open(output_path)\n",
    "img.save(output_path, quality=95, optimize=True, progressive=True)\n",
    "        "
   ]
  }
 ],
 "metadata": {
  "kernelspec": {
   "display_name": "Python 3",
   "language": "python",
   "name": "python3"
  },
  "language_info": {
   "codemirror_mode": {
    "name": "ipython",
    "version": 3
   },
   "file_extension": ".py",
   "mimetype": "text/x-python",
   "name": "python",
   "nbconvert_exporter": "python",
   "pygments_lexer": "ipython3",
   "version": "3.10.6"
  }
 },
 "nbformat": 4,
 "nbformat_minor": 2
}
